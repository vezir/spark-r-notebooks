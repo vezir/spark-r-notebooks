{
 "cells": [
  {
   "cell_type": "markdown",
   "metadata": {},
   "source": [
    "# SparkR ile Lineer Modelleme\n",
    "\n",
    "[R ile Apache Spark a giriş, Hakan Sarıbıyık](https://github.com/vezir/spark-r-notebooks)\n",
    "\n",
    "Bu notebookda, [SparkR](http://spark.apache.org/docs/latest/sparkr.html) kullanımı yolu ile *ABD - California da yol kazalarında yaralanmalar 2002-2010* [Road Traffic Injuries 2002-2010](http://www.healthdata.gov/dataset/road-traffic-injuries-2002-2010) veri setini kullanarak kazalarda yaralanan kişilerin sayısını tahminlemek için lineer bir model geliştirmeye çalışacağız. Bunu SparkR da yapmamızın sebebi SparkR ın ölçeklenebilir mimarisinin büyük veri ile çalışmaya konusunda verdiği olanakları kullanmaktır. Bu sayede, veri miktarı R da çalışmayı zor hatta imkansız kıldığı durumlarda dahi modelleme yapabilmek mümkün olmaktadır.\n",
    "\n",
    "R da olan fonksiyonların benzerlerini SparkR da olduğu ölçüde kullacağız, bazı durumlarda verinin boyutu izin verdiği durumlarda doğrudan R da iş yapacağız.\n",
    "\n",
    "\n",
    "\n",
    "## SparkSQL Context i oluşturmak ve verimizi yükleme\n",
    "\n",
    "Veri setimiz, *ABD - California da yol kazalarında yaralanmaları 2002-2010* [Road Traffic Injuries 2002-2010](http://www.healthdata.gov/dataset/road-traffic-injuries-2002-2010) ile ilgili verileri içeriyor.\n",
    "\n",
    "Bu veri setinde Kaliforniya'da yaşayan kişi ve mil başına olan trafik kazalarının yaya, otomobil, motorsiklet gibi kategorilerdeki istatistikleri, Kaliforniya'nın alt bölgeleri bazında verilmektedir. Veriyi doğrudan incelemek isterseniz [analiz için hazırlanmış sayfadan](https://cdph.data.ca.gov/Environment/Road-Traffic-Injuries-2002-2010/xmwz-xvsf) faydalanabilirsiniz. Var olan alanların neler olduğu ile ilgili bir [excel doküman](https://cdph.data.ca.gov/api/views/xmwz-xvsf/files/vFZ2-VvAdPb_6aOkATlLb19r3PpHHYGEgns1EH3kAQs?download=true&filename=RoadTrafficInjuries_DD.xlsx) da mevcuttur."
   ]
  },
  {
   "cell_type": "markdown",
   "metadata": {},
   "source": [
    "## SparkSQL context i yaratmak\n",
    "\n",
    "Bu ve sonraki notebooklarda veriyi dataFrame aktarmak için öncelikle bir SparkSQL context e ihtiyacımız olacak. Ayrıca, SPARK_HOME gibi temel değişkenlere uygun değerleri atamamız da gerekiyor."
   ]
  },
  {
   "cell_type": "code",
   "execution_count": 1,
   "metadata": {
    "collapsed": true
   },
   "outputs": [],
   "source": [
    "# Spark ın kurulduğu dizin\n",
    "Sys.setenv(SPARK_HOME=\"/usr/local/spark\")\n",
    "# SparkR ın kurulduğu dizinden yüklenmesi için gerekiyor\n",
    ".libPaths(c(file.path(Sys.getenv(\"SPARK_HOME\"), \"R\", \"lib\"), .libPaths()))"
   ]
  },
  {
   "cell_type": "markdown",
   "metadata": {},
   "source": [
    "SparkR kütüphanesini yükleyelim."
   ]
  },
  {
   "cell_type": "code",
   "execution_count": 2,
   "metadata": {
    "collapsed": false
   },
   "outputs": [
    {
     "name": "stderr",
     "output_type": "stream",
     "text": [
      "\n",
      "Attaching package: ‘SparkR’\n",
      "\n",
      "The following objects are masked from ‘package:stats’:\n",
      "\n",
      "    cov, filter, lag, na.omit, predict, sd, var\n",
      "\n",
      "The following objects are masked from ‘package:base’:\n",
      "\n",
      "    colnames, colnames<-, intersect, rank, rbind, sample, subset,\n",
      "    summary, table, transform\n",
      "\n"
     ]
    }
   ],
   "source": [
    "library(SparkR)"
   ]
  },
  {
   "cell_type": "markdown",
   "metadata": {},
   "source": [
    "Spark ı kullanabilmemiz için bir SparkContext te ihtiyacımız var. Bunu Spark ın [sayfasında](http://spark.apache.org/docs/latest/sparkr.html#starting-up-sparkcontext-sqlcontext) anlatıldığı şekilde yapacak olursak sparkR.init komutunu kullanmamız gerekiyor. Burada master olarak Spark ın bulundugu makinanın IP sini yada lokalde ise *local* kelimesini kullanıyoruz."
   ]
  },
  {
   "cell_type": "code",
   "execution_count": 3,
   "metadata": {
    "collapsed": false
   },
   "outputs": [
    {
     "name": "stdout",
     "output_type": "stream",
     "text": [
      "Launching java with spark-submit command /usr/local/spark/bin/spark-submit  --packages com.databricks:spark-csv_2.11:1.2.0 sparkr-shell /tmp/RtmpqWcDyD/backend_port94e43a60ed3 \n"
     ]
    }
   ],
   "source": [
    "sc <- sparkR.init(master=\"local\", sparkPackages=\"com.databricks:spark-csv_2.11:1.2.0\")"
   ]
  },
  {
   "cell_type": "markdown",
   "metadata": {},
   "source": [
    "Bu şekilde emrimizi bekleyen bir spark elde ettik. sparkPackages a koyduğumuz paket csv formatındaki dosyaları okumak için kullanılan bir paket. Artık dataFrame oluşturmak için gereken sparkSQL context i oluşturabiliriz. Çalıştırdığımız işlerin detay takibini standart olarak http://10.0.2.15:4040 adresinden browser yardımı ile yapabiliriz. Jupyter notebook un loglarından sizinkini görebilirisiniz. Artık sqlContext e geçebiliriz."
   ]
  },
  {
   "cell_type": "code",
   "execution_count": 4,
   "metadata": {
    "collapsed": true
   },
   "outputs": [],
   "source": [
    "sqlContext <- sparkRSQL.init(sc)"
   ]
  },
  {
   "cell_type": "markdown",
   "metadata": {},
   "source": [
    "## Veriyi yükleyelim\n",
    "SQLcontext imizi oluşturduğumuza göre verimizi DataFrame yükleyerek detaylı analize başlayabiliriz. Önce veriyi yükleyelim. Bunun için [ilk notebook](https://github.com/vezir/spark-r-notebooks/blob/master/notebooks/1-baslangic/baslangic.ipynb)da yaptığımızı yapacağız ama web den yüklemek yerine orada bahsettiğimiz şekilde lokalde nereye kopyaladıksak oradan alacağız."
   ]
  },
  {
   "cell_type": "code",
   "execution_count": 5,
   "metadata": {
    "collapsed": true
   },
   "outputs": [],
   "source": [
    "traffic_injuries_file_path <- file.path('','home','dsuser','shared','Road_Traffic_Injuries.txt')"
   ]
  },
  {
   "cell_type": "code",
   "execution_count": 6,
   "metadata": {
    "collapsed": false
   },
   "outputs": [
    {
     "name": "stdout",
     "output_type": "stream",
     "text": [
      "[1] \"/home/dsuser/shared/Road_Traffic_Injuries.txt\"\n"
     ]
    }
   ],
   "source": [
    "print(traffic_injuries_file_path)"
   ]
  },
  {
   "cell_type": "code",
   "execution_count": 23,
   "metadata": {
    "collapsed": false
   },
   "outputs": [
    {
     "data": {
      "text/plain": [
       "   user  system elapsed \n",
       "  0.040   0.004  11.174 "
      ]
     },
     "execution_count": 23,
     "metadata": {},
     "output_type": "execute_result"
    }
   ],
   "source": [
    "system.time(\n",
    "    traffic_injuries_df <- read.df(sqlContext, \n",
    "                        paste('file:', traffic_injuries_file_path, sep=''), \n",
    "                        header='true', \n",
    "                        source = \"com.databricks.spark.csv\", \n",
    "                        inferSchema='true')\n",
    ")"
   ]
  },
  {
   "cell_type": "code",
   "execution_count": 24,
   "metadata": {
    "collapsed": false
   },
   "outputs": [
    {
     "data": {
      "text/html": [
       "494226"
      ],
      "text/latex": [
       "494226"
      ],
      "text/markdown": [
       "494226"
      ],
      "text/plain": [
       "[1] 494226"
      ]
     },
     "execution_count": 24,
     "metadata": {},
     "output_type": "execute_result"
    }
   ],
   "source": [
    "traffic_injuries_df$region_code <- cast(traffic_injuries_df$region_code, \"string\")\n",
    "nrow(traffic_injuries_df)"
   ]
  },
  {
   "cell_type": "markdown",
   "metadata": {},
   "source": [
    "## Verinin modelleme için hazırlanması\n",
    "\n",
    "Modellemede regresyon kullanacağımız için, boş değerleri içeren gözlemleri ne yapacağımıza karar vermemiz gerekiyor. Boş değerleri olan kayıda denk gelen satırları ya tamamen kaldıracağız, ya da bu boş değerlerin yerlerine veri setine uygun gördüğümüz değerlerle dolduracağız. Bu işleme veri madenciliği literatüründe *imputation* denmektedir. Bu boş değerle o kolonun ortalama değerlerini, min veya maks değerlerini koyabiliriz. Bu tamamen o kolonda tutulan verinin özelliğine bağlıdır. \n",
    "\n",
    "Biz burada boş değerleri tahminlemede kullanmaya karar verdiğimiz değişkenleri ve beklenen değeri tutan *injuries* değişkeninde boş olan satırları tamamen çıkararak devam edeceğiz.\n"
   ]
  },
  {
   "cell_type": "markdown",
   "metadata": {},
   "source": [
    "Gördüğümüz kadarı ile *reportyear* 2002-2010 arasında yıllık olan verimiz, ayrıca 2002-2004, 2005-2007, 2008-2010 şeklinde 3 yıllık ortalamalar şeklinde verilmiş, bir de 2006-2010 yılllarında 5 yıllık bir ortalama da verilmiş. Bunu [Veri sözlüğümüz](https://cdph.data.ca.gov/api/views/xmwz-xvsf/files/vFZ2-VvAdPb_6aOkATlLb19r3PpHHYGEgns1EH3kAQs?download=true&filename=RoadTrafficInjuries_DD.xlsx) den de kontrol ettiğimizde tanımla uyumlu olduğunu görüyoruz.\n",
    "\n",
    "\"2002 to 2010; 2002-2004, 2005-2007, and 2008-2010 3 year averages; 2006-2010 5 year average\"\n",
    "\n",
    "Veriyi analiz ederken bunu dikkate almamız gerekiyor, yoksa sonuçlarımız bizi anlamsız çıkarımlara götürür. Biz yapacağımız çalışmada yıllık veriler dışında kalan ortalama verileri filtreleyelim. \n",
    "\n",
    "SparkR da R daki %in% operatörü olmadığı için şöyle yapıyoruz."
   ]
  },
  {
   "cell_type": "code",
   "execution_count": 80,
   "metadata": {
    "collapsed": false
   },
   "outputs": [
    {
     "data": {
      "text/html": [
       "274561"
      ],
      "text/latex": [
       "274561"
      ],
      "text/markdown": [
       "274561"
      ],
      "text/plain": [
       "[1] 274561"
      ]
     },
     "execution_count": 80,
     "metadata": {},
     "output_type": "execute_result"
    }
   ],
   "source": [
    "traffic_injuries_2002_2010_df <- filter(traffic_injuries_df, \n",
    "                                        traffic_injuries_df$reportyear==\"2002\" | \n",
    "                                        traffic_injuries_df$reportyear==\"2003\" |\n",
    "                                        traffic_injuries_df$reportyear==\"2004\" |\n",
    "                                        traffic_injuries_df$reportyear==\"2005\" |\n",
    "                                        traffic_injuries_df$reportyear==\"2006\" |\n",
    "                                        traffic_injuries_df$reportyear==\"2007\" |\n",
    "                                        traffic_injuries_df$reportyear==\"2008\" |\n",
    "                                        traffic_injuries_df$reportyear==\"2009\" |\n",
    "                                        traffic_injuries_df$reportyear==\"2010\"\n",
    "                                     )\n",
    "nrows <- nrow(traffic_injuries_2002_2010_df)\n",
    "nrows"
   ]
  },
  {
   "cell_type": "code",
   "execution_count": 129,
   "metadata": {
    "collapsed": false
   },
   "outputs": [
    {
     "data": {
      "text/html": [
       "37359"
      ],
      "text/latex": [
       "37359"
      ],
      "text/markdown": [
       "37359"
      ],
      "text/plain": [
       "[1] 37359"
      ]
     },
     "execution_count": 129,
     "metadata": {},
     "output_type": "execute_result"
    }
   ],
   "source": [
    "traffic_injuries_filtered_df <- filter(\n",
    "    traffic_injuries_2002_2010_df, \n",
    "    isNotNull(traffic_injuries_2002_2010_df$injuries) \n",
    "    & isNotNull(traffic_injuries_2002_2010_df$geotypevalue)\n",
    "    & isNotNull(traffic_injuries_2002_2010_df$mode)\n",
    "    & isNotNull(traffic_injuries_2002_2010_df$totalpop)\n",
    "    & isNotNull(traffic_injuries_2002_2010_df$geotype)\n",
    ")\n",
    "nrows <- nrow(traffic_injuries_filtered_df)\n",
    "nrows"
   ]
  },
  {
   "cell_type": "code",
   "execution_count": 130,
   "metadata": {
    "collapsed": false
   },
   "outputs": [
    {
     "data": {
      "text/html": [
       "<table>\n",
       "<thead><tr><th></th><th scope=col>ind_id</th><th scope=col>ind_definition</th><th scope=col>reportyear</th><th scope=col>race_eth_code</th><th scope=col>race_eth_name</th><th scope=col>geotype</th><th scope=col>geotypevalue</th><th scope=col>geoname</th><th scope=col>county_name</th><th scope=col>county_fips</th><th scope=col>ellip.h</th><th scope=col>avmttotal</th><th scope=col>avmtrate</th><th scope=col>LL95CI_avmtrate</th><th scope=col>UL95CI_avmtrate</th><th scope=col>avmtrate_se</th><th scope=col>avmtrate_rse</th><th scope=col>CA_decile_avmt</th><th scope=col>CA_RR_avmtrate</th><th scope=col>groupquarters</th><th scope=col>version</th></tr></thead>\n",
       "<tbody>\n",
       "\t<tr><th scope=row>1</th><td>753</td><td>Annual number of fatal and severe road traffic injuries per population and per miles traveled by transport mode</td><td>2002</td><td>9</td><td>Total</td><td>CO</td><td>6001</td><td>Alameda</td><td>Alameda</td><td>6001</td><td>⋯</td><td>NA</td><td>NA</td><td>NA</td><td>NA</td><td>NA</td><td>NA</td><td></td><td>NA</td><td>29643</td><td>10/10/2014 12:00:00 AM</td></tr>\n",
       "\t<tr><th scope=row>2</th><td>753</td><td>Annual number of fatal and severe road traffic injuries per population and per miles traveled by transport mode</td><td>2002</td><td>9</td><td>Total</td><td>CO</td><td>6001</td><td>Alameda</td><td>Alameda</td><td>6001</td><td>⋯</td><td>NA</td><td>NA</td><td>NA</td><td>NA</td><td>NA</td><td>NA</td><td></td><td>NA</td><td>29643</td><td>10/10/2014 12:00:00 AM</td></tr>\n",
       "\t<tr><th scope=row>3</th><td>753</td><td>Annual number of fatal and severe road traffic injuries per population and per miles traveled by transport mode</td><td>2002</td><td>9</td><td>Total</td><td>CO</td><td>6001</td><td>Alameda</td><td>Alameda</td><td>6001</td><td>⋯</td><td>NA</td><td>NA</td><td>NA</td><td>NA</td><td>NA</td><td>NA</td><td></td><td>NA</td><td>29643</td><td>10/10/2014 12:00:00 AM</td></tr>\n",
       "\t<tr><th scope=row>4</th><td>753</td><td>Annual number of fatal and severe road traffic injuries per population and per miles traveled by transport mode</td><td>2002</td><td>9</td><td>Total</td><td>CO</td><td>6001</td><td>Alameda</td><td>Alameda</td><td>6001</td><td>⋯</td><td>NA</td><td>NA</td><td>NA</td><td>NA</td><td>NA</td><td>NA</td><td></td><td>NA</td><td>29643</td><td>10/10/2014 12:00:00 AM</td></tr>\n",
       "\t<tr><th scope=row>5</th><td>753</td><td>Annual number of fatal and severe road traffic injuries per population and per miles traveled by transport mode</td><td>2002</td><td>9</td><td>Total</td><td>CO</td><td>6001</td><td>Alameda</td><td>Alameda</td><td>6001</td><td>⋯</td><td>NA</td><td>NA</td><td>NA</td><td>NA</td><td>NA</td><td>NA</td><td></td><td>NA</td><td>29643</td><td>10/10/2014 12:00:00 AM</td></tr>\n",
       "\t<tr><th scope=row>6</th><td>753</td><td>Annual number of fatal and severe road traffic injuries per population and per miles traveled by transport mode</td><td>2002</td><td>9</td><td>Total</td><td>CO</td><td>6001</td><td>Alameda</td><td>Alameda</td><td>6001</td><td>⋯</td><td>NA</td><td>NA</td><td>NA</td><td>NA</td><td>NA</td><td>NA</td><td></td><td>NA</td><td>29643</td><td>10/10/2014 12:00:00 AM</td></tr>\n",
       "</tbody>\n",
       "</table>\n"
      ],
      "text/latex": [
       "\\begin{tabular}{r|lllllllllllllllllllllllllllllllll}\n",
       "  & ind_id & ind_definition & reportyear & race_eth_code & race_eth_name & geotype & geotypevalue & geoname & county_name & county_fips & ellip.h & avmttotal & avmtrate & LL95CI_avmtrate & UL95CI_avmtrate & avmtrate_se & avmtrate_rse & CA_decile_avmt & CA_RR_avmtrate & groupquarters & version\\\\\n",
       "\\hline\n",
       "\t1 & 753 & Annual number of fatal and severe road traffic injuries per population and per miles traveled by transport mode & 2002 & 9 & Total & CO & 6001 & Alameda & Alameda & 6001 & ⋯ & NA & NA & NA & NA & NA & NA &  & NA & 29643 & 10/10/2014 12:00:00 AM\\\\\n",
       "\t2 & 753 & Annual number of fatal and severe road traffic injuries per population and per miles traveled by transport mode & 2002 & 9 & Total & CO & 6001 & Alameda & Alameda & 6001 & ⋯ & NA & NA & NA & NA & NA & NA &  & NA & 29643 & 10/10/2014 12:00:00 AM\\\\\n",
       "\t3 & 753 & Annual number of fatal and severe road traffic injuries per population and per miles traveled by transport mode & 2002 & 9 & Total & CO & 6001 & Alameda & Alameda & 6001 & ⋯ & NA & NA & NA & NA & NA & NA &  & NA & 29643 & 10/10/2014 12:00:00 AM\\\\\n",
       "\t4 & 753 & Annual number of fatal and severe road traffic injuries per population and per miles traveled by transport mode & 2002 & 9 & Total & CO & 6001 & Alameda & Alameda & 6001 & ⋯ & NA & NA & NA & NA & NA & NA &  & NA & 29643 & 10/10/2014 12:00:00 AM\\\\\n",
       "\t5 & 753 & Annual number of fatal and severe road traffic injuries per population and per miles traveled by transport mode & 2002 & 9 & Total & CO & 6001 & Alameda & Alameda & 6001 & ⋯ & NA & NA & NA & NA & NA & NA &  & NA & 29643 & 10/10/2014 12:00:00 AM\\\\\n",
       "\t6 & 753 & Annual number of fatal and severe road traffic injuries per population and per miles traveled by transport mode & 2002 & 9 & Total & CO & 6001 & Alameda & Alameda & 6001 & ⋯ & NA & NA & NA & NA & NA & NA &  & NA & 29643 & 10/10/2014 12:00:00 AM\\\\\n",
       "\\end{tabular}\n"
      ],
      "text/plain": [
       "  ind_id\n",
       "1    753\n",
       "2    753\n",
       "3    753\n",
       "4    753\n",
       "5    753\n",
       "6    753\n",
       "                                                                                                   ind_definition\n",
       "1 Annual number of fatal and severe road traffic injuries per population and per miles traveled by transport mode\n",
       "2 Annual number of fatal and severe road traffic injuries per population and per miles traveled by transport mode\n",
       "3 Annual number of fatal and severe road traffic injuries per population and per miles traveled by transport mode\n",
       "4 Annual number of fatal and severe road traffic injuries per population and per miles traveled by transport mode\n",
       "5 Annual number of fatal and severe road traffic injuries per population and per miles traveled by transport mode\n",
       "6 Annual number of fatal and severe road traffic injuries per population and per miles traveled by transport mode\n",
       "  reportyear race_eth_code race_eth_name geotype geotypevalue geoname\n",
       "1       2002             9         Total      CO         6001 Alameda\n",
       "2       2002             9         Total      CO         6001 Alameda\n",
       "3       2002             9         Total      CO         6001 Alameda\n",
       "4       2002             9         Total      CO         6001 Alameda\n",
       "5       2002             9         Total      CO         6001 Alameda\n",
       "6       2002             9         Total      CO         6001 Alameda\n",
       "  county_name county_fips region_name region_code       mode      severity\n",
       "1     Alameda        6001    Bay Area           1  All modes        Killed\n",
       "2     Alameda        6001    Bay Area           1  All modes Severe Injury\n",
       "3     Alameda        6001    Bay Area           1  Bicyclist        Killed\n",
       "4     Alameda        6001    Bay Area           1  Bicyclist Severe Injury\n",
       "5     Alameda        6001    Bay Area           1 Car/Pickup        Killed\n",
       "6     Alameda        6001    Bay Area           1 Car/Pickup Severe Injury\n",
       "  injuries totalpop    poprate LL95CI_poprate UL95CI_poprate poprate_se\n",
       "1      112  1467478  7.6321417       6.218649      9.0456341  0.7211696\n",
       "2      492  1467478 33.5269081      30.564349     36.4894672  1.5115097\n",
       "3        3  1467478  0.2044324       0.000000      0.4357694  0.1180291\n",
       "4       34  1467478  2.3169002       1.538104      3.0956965  0.3973451\n",
       "5       79  1467478  5.3833856       4.196256      6.5705149  0.6056782\n",
       "6      332  1467478 22.6238485      20.190224     25.0574727  1.2416450\n",
       "  poprate_rse CA_decile_pop CA_RR_poprate avmttotal avmtrate LL95CI_avmtrate\n",
       "1    9.449112                   0.6522422        NA       NA              NA\n",
       "2    4.508348                   0.8715191        NA       NA              NA\n",
       "3   57.735027                   0.8055512        NA       NA              NA\n",
       "4   17.149859                   1.4109351        NA       NA              NA\n",
       "5   11.250879                   0.5919448        NA       NA              NA\n",
       "6    5.488213                   0.8179829        NA       NA              NA\n",
       "  UL95CI_avmtrate avmtrate_se avmtrate_rse CA_decile_avmt CA_RR_avmtrate\n",
       "1              NA          NA           NA                            NA\n",
       "2              NA          NA           NA                            NA\n",
       "3              NA          NA           NA                            NA\n",
       "4              NA          NA           NA                            NA\n",
       "5              NA          NA           NA                            NA\n",
       "6              NA          NA           NA                            NA\n",
       "  groupquarters                version\n",
       "1         29643 10/10/2014 12:00:00 AM\n",
       "2         29643 10/10/2014 12:00:00 AM\n",
       "3         29643 10/10/2014 12:00:00 AM\n",
       "4         29643 10/10/2014 12:00:00 AM\n",
       "5         29643 10/10/2014 12:00:00 AM\n",
       "6         29643 10/10/2014 12:00:00 AM"
      ]
     },
     "execution_count": 130,
     "metadata": {},
     "output_type": "execute_result"
    }
   ],
   "source": [
    "traffic_injuries_filtered_df <- \n",
    "  traffic_injuries_filtered_df[traffic_injuries_filtered_df$geotype =='CO',]\n",
    "head(traffic_injuries_filtered_df)"
   ]
  },
  {
   "cell_type": "markdown",
   "metadata": {},
   "source": [
    "Yılları ayrı değerlendirmek yerine modeli basit tutmak için ortalamaları almak genel bir yöntemdir. Ortalamalar değişik şekillerde alınabilir. Biz basit ortalama alacağız."
   ]
  },
  {
   "cell_type": "code",
   "execution_count": 131,
   "metadata": {
    "collapsed": false
   },
   "outputs": [
    {
     "data": {
      "text/html": [
       "<table>\n",
       "<thead><tr><th></th><th scope=col>geotypevalue</th><th scope=col>geoname</th><th scope=col>totalpop</th><th scope=col>region_name</th><th scope=col>mode</th><th scope=col>severity</th><th scope=col>avg_injuries</th></tr></thead>\n",
       "<tbody>\n",
       "\t<tr><th scope=row>1</th><td>6009</td><td>Calaveras</td><td>42212</td><td>Central/Southeast Sierra</td><td>Vehicles</td><td>Severe Injury</td><td>43</td></tr>\n",
       "\t<tr><th scope=row>2</th><td>6017</td><td>El Dorado</td><td>164748</td><td>Sacramento Area</td><td>Vehicles</td><td>Severe Injury</td><td>93</td></tr>\n",
       "\t<tr><th scope=row>3</th><td>6031</td><td>Kings</td><td>135131</td><td>San Joaquin Valley</td><td>Pedestrian</td><td>Killed</td><td>1</td></tr>\n",
       "\t<tr><th scope=row>4</th><td>6047</td><td>Merced</td><td>222982</td><td>San Joaquin Valley</td><td>Motorcycle</td><td>Severe Injury</td><td>10</td></tr>\n",
       "\t<tr><th scope=row>5</th><td>6047</td><td>Merced</td><td>222982</td><td>San Joaquin Valley</td><td>Truck</td><td>Killed</td><td>4</td></tr>\n",
       "\t<tr><th scope=row>6</th><td>6057</td><td>Nevada</td><td>94663</td><td>Northeast Sierra</td><td>Bus</td><td>Severe Injury</td><td>1</td></tr>\n",
       "</tbody>\n",
       "</table>\n"
      ],
      "text/latex": [
       "\\begin{tabular}{r|lllllll}\n",
       "  & geotypevalue & geoname & totalpop & region_name & mode & severity & avg_injuries\\\\\n",
       "\\hline\n",
       "\t1 & 6009 & Calaveras & 42212 & Central/Southeast Sierra & Vehicles & Severe Injury & 43\\\\\n",
       "\t2 & 6017 & El Dorado & 164748 & Sacramento Area & Vehicles & Severe Injury & 93\\\\\n",
       "\t3 & 6031 & Kings & 135131 & San Joaquin Valley & Pedestrian & Killed & 1\\\\\n",
       "\t4 & 6047 & Merced & 222982 & San Joaquin Valley & Motorcycle & Severe Injury & 10\\\\\n",
       "\t5 & 6047 & Merced & 222982 & San Joaquin Valley & Truck & Killed & 4\\\\\n",
       "\t6 & 6057 & Nevada & 94663 & Northeast Sierra & Bus & Severe Injury & 1\\\\\n",
       "\\end{tabular}\n"
      ],
      "text/plain": [
       "  geotypevalue   geoname totalpop              region_name       mode\n",
       "1         6009 Calaveras    42212 Central/Southeast Sierra   Vehicles\n",
       "2         6017 El Dorado   164748          Sacramento Area   Vehicles\n",
       "3         6031     Kings   135131       San Joaquin Valley Pedestrian\n",
       "4         6047    Merced   222982       San Joaquin Valley Motorcycle\n",
       "5         6047    Merced   222982       San Joaquin Valley      Truck\n",
       "6         6057    Nevada    94663         Northeast Sierra        Bus\n",
       "       severity avg_injuries\n",
       "1 Severe Injury           43\n",
       "2 Severe Injury           93\n",
       "3        Killed            1\n",
       "4 Severe Injury           10\n",
       "5        Killed            4\n",
       "6 Severe Injury            1"
      ]
     },
     "execution_count": 131,
     "metadata": {},
     "output_type": "execute_result"
    }
   ],
   "source": [
    "traffic_injuries_filtered_df <-\n",
    "    agg(\n",
    "        groupBy(traffic_injuries_filtered_df, \"geotypevalue\", \"geoname\",\n",
    "                             \"totalpop\",\"region_name\",\"mode\", \"severity\"),\n",
    "        avg_injuries=avg(traffic_injuries_filtered_df$injuries) \n",
    "    )\n",
    "head(traffic_injuries_filtered_df)"
   ]
  },
  {
   "cell_type": "markdown",
   "metadata": {},
   "source": [
    "## Veriyi çalışma ve test etme olarak ikiye ayırma\n",
    "\n",
    "Modellemeyi yaparken modelleme için kullanacağımız veriyi iki gruba ayırma ve bu gruplardan birini modeli eğitmede kullanırken, diğerini modelin performansını ölçmek için kullanma genel bir yöntemdir. Bu yöntemin bir çok değişik versiyonları olmakla birlikte burada bunlara değinmeyeceğiz.\n",
    "\n",
    "SparkR ın bu noktada gelişmesi gereken bir yönüne denk geliyoruz. SparkR da [SPARK-6836](https://issues.apache.org/jira/browse/SPARK-6836) ile kayıtlı bekleyen bir iş nedeni ile, ML kütüphanesinde [TrainValidationSplit](http://spark.apache.org/docs/latest/api/scala/index.html#org.apache.spark.ml.tuning.TrainValidationSplit) class ında olan veri setini train ve validation şeklinde ikiye ayırma ile ilgili fonksiyonaliteyi burada kullanamıyoruz. Bu JIRA maddesi çözülene değin, kendimizin çözmesi gereken veriyi ikiye ayırma problemi için her bir ID alanına ihtiyacımız var. \n",
    "\n",
    "Bu ID alanını eklemek SparkR da hayli problemli. Bunun için kendim bir çözüm bulamayınca bir google araması yaptım ama henüz çözüm üretilmeyen problemlerden olduğunu öğrendim. Hal böyle olunca, geriye iki çözüm kalıyor. Birincisi, siz siz olun verinizi SparkR a yüklerken böyle bir ihtiyacı düşünerek veriye en başta bir ID alanı eklenmiş şekilde DataFrame e yükleyin. İkincisi ise, elimizdeki veri seti uygunsa önce data.frame e çevirin ID alanını ekleyin, sonrada DataFrame e dönüştürün. Biz ilkini yapmadığımız için ikinci çözümü kullanacağız.\n",
    "\n",
    "Ayrıca, modele girmesine karar verdiğimiz değişkenleri seçelim. Bunu yaparken bir önceki notebook da nedenini anlattığımız şekilde *geotypevalue* değişkenini *string* yapıp başına '0' getirelim."
   ]
  },
  {
   "cell_type": "code",
   "execution_count": 133,
   "metadata": {
    "collapsed": false
   },
   "outputs": [
    {
     "data": {
      "text/html": [
       "<table>\n",
       "<thead><tr><th></th><th scope=col>ID</th><th scope=col>avg_injuries</th><th scope=col>region_name</th><th scope=col>geotypevalue0</th><th scope=col>geoname</th><th scope=col>totalpop</th><th scope=col>mode</th><th scope=col>severity</th></tr></thead>\n",
       "<tbody>\n",
       "\t<tr><th scope=row>1</th><td>1</td><td>43</td><td>Central/Southeast Sierra</td><td>06009</td><td>Calaveras</td><td>42212</td><td>Vehicles</td><td>Severe Injury</td></tr>\n",
       "\t<tr><th scope=row>2</th><td>2</td><td>93</td><td>Sacramento Area</td><td>06017</td><td>El Dorado</td><td>164748</td><td>Vehicles</td><td>Severe Injury</td></tr>\n",
       "\t<tr><th scope=row>3</th><td>3</td><td>1</td><td>San Joaquin Valley</td><td>06031</td><td>Kings</td><td>135131</td><td>Pedestrian</td><td>Killed</td></tr>\n",
       "\t<tr><th scope=row>4</th><td>4</td><td>10</td><td>San Joaquin Valley</td><td>06047</td><td>Merced</td><td>222982</td><td>Motorcycle</td><td>Severe Injury</td></tr>\n",
       "\t<tr><th scope=row>5</th><td>5</td><td>4</td><td>San Joaquin Valley</td><td>06047</td><td>Merced</td><td>222982</td><td>Truck</td><td>Killed</td></tr>\n",
       "\t<tr><th scope=row>6</th><td>6</td><td>1</td><td>Northeast Sierra</td><td>06057</td><td>Nevada</td><td>94663</td><td>Bus</td><td>Severe Injury</td></tr>\n",
       "</tbody>\n",
       "</table>\n"
      ],
      "text/latex": [
       "\\begin{tabular}{r|llllllll}\n",
       "  & ID & avg_injuries & region_name & geotypevalue0 & geoname & totalpop & mode & severity\\\\\n",
       "\\hline\n",
       "\t1 & 1 & 43 & Central/Southeast Sierra & 06009 & Calaveras & 42212 & Vehicles & Severe Injury\\\\\n",
       "\t2 & 2 & 93 & Sacramento Area & 06017 & El Dorado & 164748 & Vehicles & Severe Injury\\\\\n",
       "\t3 & 3 & 1 & San Joaquin Valley & 06031 & Kings & 135131 & Pedestrian & Killed\\\\\n",
       "\t4 & 4 & 10 & San Joaquin Valley & 06047 & Merced & 222982 & Motorcycle & Severe Injury\\\\\n",
       "\t5 & 5 & 4 & San Joaquin Valley & 06047 & Merced & 222982 & Truck & Killed\\\\\n",
       "\t6 & 6 & 1 & Northeast Sierra & 06057 & Nevada & 94663 & Bus & Severe Injury\\\\\n",
       "\\end{tabular}\n"
      ],
      "text/plain": [
       "  ID avg_injuries              region_name geotypevalue0   geoname totalpop\n",
       "1  1           43 Central/Southeast Sierra         06009 Calaveras    42212\n",
       "2  2           93          Sacramento Area         06017 El Dorado   164748\n",
       "3  3            1       San Joaquin Valley         06031     Kings   135131\n",
       "4  4           10       San Joaquin Valley         06047    Merced   222982\n",
       "5  5            4       San Joaquin Valley         06047    Merced   222982\n",
       "6  6            1         Northeast Sierra         06057    Nevada    94663\n",
       "        mode      severity\n",
       "1   Vehicles Severe Injury\n",
       "2   Vehicles Severe Injury\n",
       "3 Pedestrian        Killed\n",
       "4 Motorcycle Severe Injury\n",
       "5      Truck        Killed\n",
       "6        Bus Severe Injury"
      ]
     },
     "execution_count": 133,
     "metadata": {},
     "output_type": "execute_result"
    }
   ],
   "source": [
    "traffic_injuries_filtered_d.f <- collect(traffic_injuries_filtered_df)\n",
    "traffic_injuries_filtered_d.f$ID <- 1:nrow(traffic_injuries_filtered_d.f)\n",
    "traffic_injuries_filtered_df <- createDataFrame(sqlContext, traffic_injuries_filtered_d.f)\n",
    "\n",
    "traffic_injuries_filtered_df = \n",
    "  withColumn(traffic_injuries_filtered_df, \"geotypevalue0\", \n",
    "             format_string('0%s', cast(traffic_injuries_filtered_df$geotypevalue, \"integer\"))\n",
    ")     \n",
    "\n",
    "traffic_injuries_filtered_df <- select(traffic_injuries_filtered_df, \"ID\",\n",
    "                                       \"avg_injuries\", \"region_name\",\n",
    "                                       \"geotypevalue0\", \"geoname\",\n",
    "                                       \"totalpop\",\n",
    "                                       \"mode\", \"severity\"\n",
    "                                       )\n",
    "head(traffic_injuries_filtered_df) \n"
   ]
  },
  {
   "cell_type": "code",
   "execution_count": 134,
   "metadata": {
    "collapsed": false
   },
   "outputs": [
    {
     "name": "stdout",
     "output_type": "stream",
     "text": [
      "root\n",
      " |-- ID: integer (nullable = true)\n",
      " |-- avg_injuries: double (nullable = true)\n",
      " |-- region_name: string (nullable = true)\n",
      " |-- geotypevalue0: string (nullable = false)\n",
      " |-- geoname: string (nullable = true)\n",
      " |-- totalpop: double (nullable = true)\n",
      " |-- mode: string (nullable = true)\n",
      " |-- severity: string (nullable = true)\n"
     ]
    }
   ],
   "source": [
    "printSchema(traffic_injuries_filtered_df)"
   ]
  },
  {
   "cell_type": "code",
   "execution_count": null,
   "metadata": {
    "collapsed": true
   },
   "outputs": [],
   "source": [
    "   "
   ]
  },
  {
   "cell_type": "markdown",
   "metadata": {},
   "source": [
    "Artık *ID* alanımız olduğuna göre işe koyulabiliriz. Önce *sample* fonksiyonu ile veri setinden rastgele bir altküme alalım. Ne kadar olduğu size kalmış. Ben test %20, çalışma/eğitme %80 yapmayı düşünüyorum."
   ]
  },
  {
   "cell_type": "code",
   "execution_count": 135,
   "metadata": {
    "collapsed": false
   },
   "outputs": [
    {
     "data": {
      "text/html": [
       "1306"
      ],
      "text/latex": [
       "1306"
      ],
      "text/markdown": [
       "1306"
      ],
      "text/plain": [
       "[1] 1306"
      ]
     },
     "execution_count": 135,
     "metadata": {},
     "output_type": "execute_result"
    }
   ],
   "source": [
    "traffic_injuries_filtered_df_test <- sample(traffic_injuries_filtered_df,FALSE,0.2)\n",
    "nrow(traffic_injuries_filtered_df_test)"
   ]
  },
  {
   "cell_type": "code",
   "execution_count": 136,
   "metadata": {
    "collapsed": false
   },
   "outputs": [],
   "source": [
    "test_ids <- collect(select(traffic_injuries_filtered_df_test, \"ID\"))$ID"
   ]
  },
  {
   "cell_type": "code",
   "execution_count": 137,
   "metadata": {
    "collapsed": true
   },
   "outputs": [],
   "source": [
    "traffic_injuries_filtered_df$IS_TEST <- traffic_injuries_filtered_df$ID %in% test_ids"
   ]
  },
  {
   "cell_type": "code",
   "execution_count": 138,
   "metadata": {
    "collapsed": false
   },
   "outputs": [
    {
     "data": {
      "text/html": [
       "4942"
      ],
      "text/latex": [
       "4942"
      ],
      "text/markdown": [
       "4942"
      ],
      "text/plain": [
       "[1] 4942"
      ]
     },
     "execution_count": 138,
     "metadata": {},
     "output_type": "execute_result"
    }
   ],
   "source": [
    "traffic_injuries_filtered_df_train <- subset(traffic_injuries_filtered_df, traffic_injuries_filtered_df$IS_TEST==FALSE)\n",
    "nrow(traffic_injuries_filtered_df_train)"
   ]
  },
  {
   "cell_type": "markdown",
   "metadata": {},
   "source": [
    "Buradaki işlemler SparkR da *split* ile ilgili bir fonksiyonun aciliyetini gösteriyor. Yoksa büyük veri setleri ile bu işleri yapmak daha da sıkıntılı olacağı açık."
   ]
  },
  {
   "cell_type": "markdown",
   "metadata": {},
   "source": [
    "## Lineer bir modelin eğitilmesi\n",
    "Bu iş için neler gerekiyor.\n",
    "* R da da olan *glm* fonksiyonu\n",
    "* Eğitim için gereken veri seti\n",
    "* Modelin tipi (Gausyan, yada binom)\n",
    "\n",
    "Kullanım R dakinden pek farklılık göstermiyor. Şimdi modelde kullanacağımız ve bir önceki notebook da detaylarını verdiğimiz yukarıda *select* ile bir dataFrame de topladığımız değişkenleri sıralayalım.\n",
    "\n",
    "Coğrafik değişkenler\n",
    "\n",
    "* *geotype* : Type of geographic unit\n",
    "* *geotypevalue* : Value of geographic unit\n",
    "* *geoname* : Name of geographic unit\n",
    "* *region_name* : Name of region\n",
    "\n",
    "Nüfus değişkenleri\n",
    "\n",
    "* *totalpop* : (Denominator 1) Total population in the geographic area\n",
    "\n",
    "Seyahat ile ilgili değişkenler\n",
    "\n",
    "* *mode* : Mode of transportation of the victim\n",
    "\n",
    "Kurbanların yaralanma/ölme durumları ile ilgili değişkenler\n",
    "\n",
    "* *severity* : Severity of the victim's injuries\n",
    "\n",
    "Tipleri kontrol edelim."
   ]
  },
  {
   "cell_type": "code",
   "execution_count": 139,
   "metadata": {
    "collapsed": false
   },
   "outputs": [
    {
     "name": "stdout",
     "output_type": "stream",
     "text": [
      "root\n",
      " |-- ID: integer (nullable = true)\n",
      " |-- avg_injuries: double (nullable = true)\n",
      " |-- region_name: string (nullable = true)\n",
      " |-- geotypevalue0: string (nullable = false)\n",
      " |-- geoname: string (nullable = true)\n",
      " |-- totalpop: double (nullable = true)\n",
      " |-- mode: string (nullable = true)\n",
      " |-- severity: string (nullable = true)\n",
      " |-- IS_TEST: boolean (nullable = true)\n"
     ]
    }
   ],
   "source": [
    "printSchema(traffic_injuries_filtered_df_train)"
   ]
  },
  {
   "cell_type": "code",
   "execution_count": 141,
   "metadata": {
    "collapsed": false
   },
   "outputs": [],
   "source": [
    "model <- glm(\n",
    "    avg_injuries ~ geoname + totalpop + mode + severity, \n",
    "    data = traffic_injuries_filtered_df_train, \n",
    "    family = \"gaussian\")"
   ]
  },
  {
   "cell_type": "code",
   "execution_count": 142,
   "metadata": {
    "collapsed": false
   },
   "outputs": [
    {
     "data": {
      "text/html": [
       "<dl>\n",
       "\t<dt>$devianceResiduals</dt>\n",
       "\t\t<dd><table>\n",
       "<thead><tr><th></th><th scope=col>Min</th><th scope=col>Max</th></tr></thead>\n",
       "<tbody>\n",
       "\t<tr><th scope=row></th><td>-557.0523</td><td>2403.766</td></tr>\n",
       "</tbody>\n",
       "</table>\n",
       "</dd>\n",
       "\t<dt>$coefficients</dt>\n",
       "\t\t<dd><table>\n",
       "<thead><tr><th></th><th scope=col>Estimate</th><th scope=col>Std. Error</th><th scope=col>t value</th><th scope=col>Pr(>|t|)</th></tr></thead>\n",
       "<tbody>\n",
       "\t<tr><th scope=row>(Intercept)</th><td>-246.1828</td><td>22.22977</td><td>-11.07447</td><td>0</td></tr>\n",
       "\t<tr><th scope=row>geoname_San Diego</th><td>920.3487</td><td>172.5699</td><td>5.333194</td><td>1.008609e-07</td></tr>\n",
       "\t<tr><th scope=row>geoname_Los Angeles</th><td>2710.7</td><td>559.6934</td><td>4.843186</td><td>1.31729e-06</td></tr>\n",
       "\t<tr><th scope=row>geoname_Riverside</th><td>662.6117</td><td>115.09</td><td>5.757338</td><td>9.068379e-09</td></tr>\n",
       "\t<tr><th scope=row>geoname_Sacramento</th><td>452.5343</td><td>81.01553</td><td>5.585772</td><td>2.452942e-08</td></tr>\n",
       "\t<tr><th scope=row>geoname_San Bernardino</th><td>680.2915</td><td>113.3043</td><td>6.004108</td><td>2.063281e-09</td></tr>\n",
       "\t<tr><th scope=row>geoname_Orange</th><td>840.0219</td><td>170.7261</td><td>4.92029</td><td>8.926118e-07</td></tr>\n",
       "\t<tr><th scope=row>geoname_San Francisco</th><td>258.3553</td><td>50.18363</td><td>5.148199</td><td>2.733402e-07</td></tr>\n",
       "\t<tr><th scope=row>geoname_Tulare</th><td>186.5334</td><td>32.43447</td><td>5.751084</td><td>9.407975e-09</td></tr>\n",
       "\t<tr><th scope=row>geoname_Contra Costa</th><td>318.6192</td><td>62.10036</td><td>5.130714</td><td>2.998433e-07</td></tr>\n",
       "\t<tr><th scope=row>geoname_Fresno</th><td>336.8306</td><td>55.16866</td><td>6.10547</td><td>1.104447e-09</td></tr>\n",
       "\t<tr><th scope=row>geoname_Kern</th><td>311.6658</td><td>49.56643</td><td>6.287841</td><td>3.500247e-10</td></tr>\n",
       "\t<tr><th scope=row>geoname_San Mateo</th><td>231.2882</td><td>46.07013</td><td>5.02035</td><td>5.341476e-07</td></tr>\n",
       "\t<tr><th scope=row>geoname_San Joaquin</th><td>258.9825</td><td>43.42163</td><td>5.964366</td><td>2.629121e-09</td></tr>\n",
       "\t<tr><th scope=row>geoname_Merced</th><td>126.6235</td><td>26.35106</td><td>4.805253</td><td>1.591962e-06</td></tr>\n",
       "\t<tr><th scope=row>geoname_Stanislaus</th><td>215.4274</td><td>36.21253</td><td>5.948976</td><td>2.886662e-09</td></tr>\n",
       "\t<tr><th scope=row>geoname_Sonoma</th><td>191.8166</td><td>35.09662</td><td>5.465386</td><td>4.848962e-08</td></tr>\n",
       "\t<tr><th scope=row>geoname_Placer</th><td>141.0354</td><td>28.88658</td><td>4.882384</td><td>1.081591e-06</td></tr>\n",
       "\t<tr><th scope=row>geoname_Solano</th><td>162.7421</td><td>32.4675</td><td>5.01246</td><td>5.564102e-07</td></tr>\n",
       "\t<tr><th scope=row>geoname_Santa Clara</th><td>501.8561</td><td>101.1429</td><td>4.961851</td><td>7.220043e-07</td></tr>\n",
       "\t<tr><th scope=row>geoname_Monterey</th><td>175.246</td><td>32.48874</td><td>5.394054</td><td>7.214082e-08</td></tr>\n",
       "\t<tr><th scope=row>geoname_Santa Barbara</th><td>176.9195</td><td>32.71089</td><td>5.40858</td><td>6.656068e-08</td></tr>\n",
       "\t<tr><th scope=row>geoname_Alameda</th><td>453.0976</td><td>87.42685</td><td>5.18259</td><td>2.276573e-07</td></tr>\n",
       "\t<tr><th scope=row>geoname_Butte</th><td>114.4838</td><td>25.86712</td><td>4.425843</td><td>9.816345e-06</td></tr>\n",
       "\t<tr><th scope=row>geoname_Santa Cruz</th><td>116.547</td><td>27.14147</td><td>4.294057</td><td>1.788459e-05</td></tr>\n",
       "\t<tr><th scope=row>geoname_Imperial</th><td>101.5984</td><td>24.63298</td><td>4.124488</td><td>3.777462e-05</td></tr>\n",
       "\t<tr><th scope=row>geoname_Yolo</th><td>93.98411</td><td>25.31656</td><td>3.712357</td><td>0.0002076301</td></tr>\n",
       "\t<tr><th scope=row>geoname_El Dorado</th><td>102.6458</td><td>24.93377</td><td>4.116737</td><td>3.906264e-05</td></tr>\n",
       "\t<tr><th scope=row>geoname_Ventura</th><td>284.705</td><td>51.21975</td><td>5.558502</td><td>2.865862e-08</td></tr>\n",
       "\t<tr><th scope=row>geoname_San Luis Obispo</th><td>122.1802</td><td>27.4056</td><td>4.45822</td><td>8.449835e-06</td></tr>\n",
       "\t<tr><th scope=row></th><td>⋮</td><td>⋮</td><td>⋮</td><td>⋮</td></tr>\n",
       "\t<tr><th scope=row>geoname_Tehama</th><td>60.75075</td><td>23.47044</td><td>2.588394</td><td>0.009671105</td></tr>\n",
       "\t<tr><th scope=row>geoname_Kings</th><td>89.53932</td><td>24.71728</td><td>3.62254</td><td>0.000294694</td></tr>\n",
       "\t<tr><th scope=row>geoname_Sutter</th><td>60.72474</td><td>23.87438</td><td>2.54351</td><td>0.0110051</td></tr>\n",
       "\t<tr><th scope=row>geoname_San Benito</th><td>43.98991</td><td>23.72038</td><td>1.85452</td><td>0.06372518</td></tr>\n",
       "\t<tr><th scope=row>geoname_Nevada</th><td>77.49792</td><td>24.31092</td><td>3.187782</td><td>0.001442751</td></tr>\n",
       "\t<tr><th scope=row>geoname_Amador</th><td>42.02994</td><td>23.80261</td><td>1.76577</td><td>0.07749705</td></tr>\n",
       "\t<tr><th scope=row>geoname_Tuolumne</th><td>48.35174</td><td>23.9312</td><td>2.020448</td><td>0.04339155</td></tr>\n",
       "\t<tr><th scope=row>geoname_Siskiyou</th><td>47.26819</td><td>23.93494</td><td>1.974861</td><td>0.04834023</td></tr>\n",
       "\t<tr><th scope=row>geoname_Lassen</th><td>37.76126</td><td>23.87724</td><td>1.581475</td><td>0.1138344</td></tr>\n",
       "\t<tr><th scope=row>geoname_Lake</th><td>50.66767</td><td>24.05749</td><td>2.106108</td><td>0.03524595</td></tr>\n",
       "\t<tr><th scope=row>geoname_Inyo</th><td>49.70115</td><td>23.89405</td><td>2.080063</td><td>0.03757183</td></tr>\n",
       "\t<tr><th scope=row>geoname_Del Norte</th><td>25.44305</td><td>23.99209</td><td>1.060477</td><td>0.2889803</td></tr>\n",
       "\t<tr><th scope=row>geoname_Trinity</th><td>20.17793</td><td>24.01427</td><td>0.8402475</td><td>0.4008108</td></tr>\n",
       "\t<tr><th scope=row>geoname_Plumas</th><td>23.92304</td><td>24.02896</td><td>0.9955918</td><td>0.3194979</td></tr>\n",
       "\t<tr><th scope=row>geoname_Mariposa</th><td>24.49195</td><td>24.10234</td><td>1.016165</td><td>0.3096013</td></tr>\n",
       "\t<tr><th scope=row>geoname_Mono</th><td>14.6677</td><td>24.09502</td><td>0.608744</td><td>0.5427225</td></tr>\n",
       "\t<tr><th scope=row>geoname_Colusa</th><td>25.96628</td><td>24.19262</td><td>1.073314</td><td>0.2831834</td></tr>\n",
       "\t<tr><th scope=row>geoname_Glenn</th><td>31.36267</td><td>24.21672</td><td>1.295083</td><td>0.1953529</td></tr>\n",
       "\t<tr><th scope=row>geoname_Calaveras</th><td>37.87226</td><td>24.38188</td><td>1.553295</td><td>0.1204175</td></tr>\n",
       "\t<tr><th scope=row>geoname_Sierra</th><td>7.680352</td><td>24.78946</td><td>0.3098232</td><td>0.7567086</td></tr>\n",
       "\t<tr><th scope=row>geoname_Modoc</th><td>-1.140548</td><td>24.99898</td><td>-0.04562378</td><td>0.963612</td></tr>\n",
       "\t<tr><th scope=row>totalpop</th><td>-0.0002083173</td><td>5.713333e-05</td><td>-3.646161</td><td>0.0002689641</td></tr>\n",
       "\t<tr><th scope=row>mode_Car/Pickup</th><td>210.5484</td><td>13.47315</td><td>15.62726</td><td>0</td></tr>\n",
       "\t<tr><th scope=row>mode_Vehicles</th><td>234.3535</td><td>13.47414</td><td>17.39283</td><td>0</td></tr>\n",
       "\t<tr><th scope=row>mode_All modes</th><td>257.8284</td><td>13.48312</td><td>19.12232</td><td>0</td></tr>\n",
       "\t<tr><th scope=row>mode_Motorcycle</th><td>131.6709</td><td>13.52885</td><td>9.732601</td><td>0</td></tr>\n",
       "\t<tr><th scope=row>mode_Pedestrian</th><td>125.0817</td><td>13.625</td><td>9.180312</td><td>0</td></tr>\n",
       "\t<tr><th scope=row>mode_Bicyclist</th><td>93.37473</td><td>13.87434</td><td>6.73003</td><td>1.891887e-11</td></tr>\n",
       "\t<tr><th scope=row>mode_Truck</th><td>81.01467</td><td>14.10952</td><td>5.741846</td><td>9.932346e-09</td></tr>\n",
       "\t<tr><th scope=row>severity_Severe Injury</th><td>76.88674</td><td>3.829134</td><td>20.0794</td><td>0</td></tr>\n",
       "</tbody>\n",
       "</table>\n",
       "</dd>\n",
       "</dl>\n"
      ],
      "text/latex": [
       "\\begin{description}\n",
       "\\item[\\$devianceResiduals] \\begin{tabular}{r|ll}\n",
       "  & Min & Max\\\\\n",
       "\\hline\n",
       "\t & -557.0523 & 2403.766\\\\\n",
       "\\end{tabular}\n",
       "\n",
       "\\item[\\$coefficients] \\begin{tabular}{r|llll}\n",
       "  & Estimate & Std. Error & t value & Pr(>|t|)\\\\\n",
       "\\hline\n",
       "\t(Intercept) & -246.1828 & 22.22977 & -11.07447 & 0\\\\\n",
       "\tgeoname_San Diego & 920.3487 & 172.5699 & 5.333194 & 1.008609e-07\\\\\n",
       "\tgeoname_Los Angeles & 2710.7 & 559.6934 & 4.843186 & 1.31729e-06\\\\\n",
       "\tgeoname_Riverside & 662.6117 & 115.09 & 5.757338 & 9.068379e-09\\\\\n",
       "\tgeoname_Sacramento & 452.5343 & 81.01553 & 5.585772 & 2.452942e-08\\\\\n",
       "\tgeoname_San Bernardino & 680.2915 & 113.3043 & 6.004108 & 2.063281e-09\\\\\n",
       "\tgeoname_Orange & 840.0219 & 170.7261 & 4.92029 & 8.926118e-07\\\\\n",
       "\tgeoname_San Francisco & 258.3553 & 50.18363 & 5.148199 & 2.733402e-07\\\\\n",
       "\tgeoname_Tulare & 186.5334 & 32.43447 & 5.751084 & 9.407975e-09\\\\\n",
       "\tgeoname_Contra Costa & 318.6192 & 62.10036 & 5.130714 & 2.998433e-07\\\\\n",
       "\tgeoname_Fresno & 336.8306 & 55.16866 & 6.10547 & 1.104447e-09\\\\\n",
       "\tgeoname_Kern & 311.6658 & 49.56643 & 6.287841 & 3.500247e-10\\\\\n",
       "\tgeoname_San Mateo & 231.2882 & 46.07013 & 5.02035 & 5.341476e-07\\\\\n",
       "\tgeoname_San Joaquin & 258.9825 & 43.42163 & 5.964366 & 2.629121e-09\\\\\n",
       "\tgeoname_Merced & 126.6235 & 26.35106 & 4.805253 & 1.591962e-06\\\\\n",
       "\tgeoname_Stanislaus & 215.4274 & 36.21253 & 5.948976 & 2.886662e-09\\\\\n",
       "\tgeoname_Sonoma & 191.8166 & 35.09662 & 5.465386 & 4.848962e-08\\\\\n",
       "\tgeoname_Placer & 141.0354 & 28.88658 & 4.882384 & 1.081591e-06\\\\\n",
       "\tgeoname_Solano & 162.7421 & 32.4675 & 5.01246 & 5.564102e-07\\\\\n",
       "\tgeoname_Santa Clara & 501.8561 & 101.1429 & 4.961851 & 7.220043e-07\\\\\n",
       "\tgeoname_Monterey & 175.246 & 32.48874 & 5.394054 & 7.214082e-08\\\\\n",
       "\tgeoname_Santa Barbara & 176.9195 & 32.71089 & 5.40858 & 6.656068e-08\\\\\n",
       "\tgeoname_Alameda & 453.0976 & 87.42685 & 5.18259 & 2.276573e-07\\\\\n",
       "\tgeoname_Butte & 114.4838 & 25.86712 & 4.425843 & 9.816345e-06\\\\\n",
       "\tgeoname_Santa Cruz & 116.547 & 27.14147 & 4.294057 & 1.788459e-05\\\\\n",
       "\tgeoname_Imperial & 101.5984 & 24.63298 & 4.124488 & 3.777462e-05\\\\\n",
       "\tgeoname_Yolo & 93.98411 & 25.31656 & 3.712357 & 0.0002076301\\\\\n",
       "\tgeoname_El Dorado & 102.6458 & 24.93377 & 4.116737 & 3.906264e-05\\\\\n",
       "\tgeoname_Ventura & 284.705 & 51.21975 & 5.558502 & 2.865862e-08\\\\\n",
       "\tgeoname_San Luis Obispo & 122.1802 & 27.4056 & 4.45822 & 8.449835e-06\\\\\n",
       "\t & ⋮ & ⋮ & ⋮ & ⋮\\\\\n",
       "\tgeoname_Tehama & 60.75075 & 23.47044 & 2.588394 & 0.009671105\\\\\n",
       "\tgeoname_Kings & 89.53932 & 24.71728 & 3.62254 & 0.000294694\\\\\n",
       "\tgeoname_Sutter & 60.72474 & 23.87438 & 2.54351 & 0.0110051\\\\\n",
       "\tgeoname_San Benito & 43.98991 & 23.72038 & 1.85452 & 0.06372518\\\\\n",
       "\tgeoname_Nevada & 77.49792 & 24.31092 & 3.187782 & 0.001442751\\\\\n",
       "\tgeoname_Amador & 42.02994 & 23.80261 & 1.76577 & 0.07749705\\\\\n",
       "\tgeoname_Tuolumne & 48.35174 & 23.9312 & 2.020448 & 0.04339155\\\\\n",
       "\tgeoname_Siskiyou & 47.26819 & 23.93494 & 1.974861 & 0.04834023\\\\\n",
       "\tgeoname_Lassen & 37.76126 & 23.87724 & 1.581475 & 0.1138344\\\\\n",
       "\tgeoname_Lake & 50.66767 & 24.05749 & 2.106108 & 0.03524595\\\\\n",
       "\tgeoname_Inyo & 49.70115 & 23.89405 & 2.080063 & 0.03757183\\\\\n",
       "\tgeoname_Del Norte & 25.44305 & 23.99209 & 1.060477 & 0.2889803\\\\\n",
       "\tgeoname_Trinity & 20.17793 & 24.01427 & 0.8402475 & 0.4008108\\\\\n",
       "\tgeoname_Plumas & 23.92304 & 24.02896 & 0.9955918 & 0.3194979\\\\\n",
       "\tgeoname_Mariposa & 24.49195 & 24.10234 & 1.016165 & 0.3096013\\\\\n",
       "\tgeoname_Mono & 14.6677 & 24.09502 & 0.608744 & 0.5427225\\\\\n",
       "\tgeoname_Colusa & 25.96628 & 24.19262 & 1.073314 & 0.2831834\\\\\n",
       "\tgeoname_Glenn & 31.36267 & 24.21672 & 1.295083 & 0.1953529\\\\\n",
       "\tgeoname_Calaveras & 37.87226 & 24.38188 & 1.553295 & 0.1204175\\\\\n",
       "\tgeoname_Sierra & 7.680352 & 24.78946 & 0.3098232 & 0.7567086\\\\\n",
       "\tgeoname_Modoc & -1.140548 & 24.99898 & -0.04562378 & 0.963612\\\\\n",
       "\ttotalpop & -0.0002083173 & 5.713333e-05 & -3.646161 & 0.0002689641\\\\\n",
       "\tmode_Car/Pickup & 210.5484 & 13.47315 & 15.62726 & 0\\\\\n",
       "\tmode_Vehicles & 234.3535 & 13.47414 & 17.39283 & 0\\\\\n",
       "\tmode_All modes & 257.8284 & 13.48312 & 19.12232 & 0\\\\\n",
       "\tmode_Motorcycle & 131.6709 & 13.52885 & 9.732601 & 0\\\\\n",
       "\tmode_Pedestrian & 125.0817 & 13.625 & 9.180312 & 0\\\\\n",
       "\tmode_Bicyclist & 93.37473 & 13.87434 & 6.73003 & 1.891887e-11\\\\\n",
       "\tmode_Truck & 81.01467 & 14.10952 & 5.741846 & 9.932346e-09\\\\\n",
       "\tseverity_Severe Injury & 76.88674 & 3.829134 & 20.0794 & 0\\\\\n",
       "\\end{tabular}\n",
       "\n",
       "\\end{description}\n"
      ],
      "text/markdown": [
       "$devianceResiduals\n",
       ":   1. -557.052289550857\n",
       "2. 2403.76572053238\n",
       "\n",
       "\n",
       "\n",
       "$coefficients\n",
       ":   1. -246.182800261306\n",
       "2. 920.348653211642\n",
       "3. 2710.69950860477\n",
       "4. 662.611736557969\n",
       "5. 452.534254520461\n",
       "6. 680.291518833877\n",
       "7. 840.021860850907\n",
       "8. 258.355301307785\n",
       "9. 186.533361424288\n",
       "10. 318.61920998028\n",
       "11. 336.830564799615\n",
       "12. 311.665845608263\n",
       "13. 231.288200695813\n",
       "14. 258.98248661646\n",
       "15. 126.623495362431\n",
       "16. 215.427441114061\n",
       "17. 191.816595136993\n",
       "18. 141.035374099292\n",
       "19. 162.742060578173\n",
       "20. 501.856137389315\n",
       "21. 175.246031133688\n",
       "22. 176.919498571013\n",
       "23. 453.097578777655\n",
       "24. 114.483822114048\n",
       "25. 116.547009274011\n",
       "26. 101.598433401345\n",
       "27. 93.9841089508816\n",
       "28. 102.645790267003\n",
       "29. 284.705037727192\n",
       "30. 122.180213155206\n",
       "31. 99.9079463780145\n",
       "32. 77.776776866745\n",
       "33. 90.1045978495666\n",
       "34. 75.3831092491468\n",
       "35. 57.4515044335687\n",
       "36. 97.837506990908\n",
       "37. 80.2965696902011\n",
       "38. 60.7507455996517\n",
       "39. 89.5393186954191\n",
       "40. 60.7247421610641\n",
       "41. 43.9899059836953\n",
       "42. 77.4979199072697\n",
       "43. 42.0299392662799\n",
       "44. 48.3517377115389\n",
       "45. 47.2681904164476\n",
       "46. 37.7612572740997\n",
       "47. 50.6676710822199\n",
       "48. 49.7011495574201\n",
       "49. 25.4430483127254\n",
       "50. 20.1779303564346\n",
       "51. 23.9230391969141\n",
       "52. 24.4919549668782\n",
       "53. 14.6676990622679\n",
       "54. 25.9662761242598\n",
       "55. 31.3626712509761\n",
       "56. 37.8722578429993\n",
       "57. 7.68035175900511\n",
       "58. -1.14054791932513\n",
       "59. -0.00020831730805802\n",
       "60. 210.548430714877\n",
       "61. 234.353465476077\n",
       "62. 257.828432068794\n",
       "63. 131.670939420167\n",
       "64. 125.081699389637\n",
       "65. 93.3747256888029\n",
       "66. 81.0146702313511\n",
       "67. 76.8867365274144\n",
       "68. 22.2297659913886\n",
       "69. 172.569894599081\n",
       "70. 559.693439568215\n",
       "71. 115.089954156917\n",
       "72. 81.0155295261391\n",
       "73. 113.304349344857\n",
       "74. 170.726072530544\n",
       "75. 50.1836276241084\n",
       "76. 32.4344695938806\n",
       "77. 62.1003627963914\n",
       "78. 55.168655957435\n",
       "79. 49.5664317245724\n",
       "80. 46.0701333233178\n",
       "81. 43.4216258219407\n",
       "82. 26.3510578753518\n",
       "83. 36.2125264833091\n",
       "84. 35.0966249527703\n",
       "85. 28.8865792089838\n",
       "86. 32.4674999251113\n",
       "87. 101.142928443262\n",
       "88. 32.4887396117232\n",
       "89. 32.7108946352907\n",
       "90. 87.426854324592\n",
       "91. 25.8671244669132\n",
       "92. 27.1414656008642\n",
       "93. 24.6329781832822\n",
       "94. 25.3165581720488\n",
       "95. 24.9337736113077\n",
       "96. 51.2197463945802\n",
       "97. 27.405603320408\n",
       "98. 25.0474040643278\n",
       "99. 24.242600975809\n",
       "100. 24.4685505764561\n",
       "101. 23.6402516314683\n",
       "102. 23.484129124121\n",
       "103. 27.1317314349697\n",
       "104. 24.3370281800089\n",
       "105. 23.4704435148463\n",
       "106. 24.7172754067154\n",
       "107. 23.8743826120272\n",
       "108. 23.7203757760289\n",
       "109. 24.3109247506829\n",
       "110. 23.802613975118\n",
       "111. 23.9312007396609\n",
       "112. 23.9349424083509\n",
       "113. 23.8772444728769\n",
       "114. 24.0574869133847\n",
       "115. 23.8940546611503\n",
       "116. 23.9920856761201\n",
       "117. 24.0142690785536\n",
       "118. 24.0289631378847\n",
       "119. 24.1023440593995\n",
       "120. 24.0950209119239\n",
       "121. 24.1926206319551\n",
       "122. 24.2167242348017\n",
       "123. 24.3818758174238\n",
       "124. 24.7894639729013\n",
       "125. 24.9989771539876\n",
       "126. 5.71333283778635e-05\n",
       "127. 13.47314649968\n",
       "128. 13.4741409275371\n",
       "129. 13.4831166798303\n",
       "130. 13.5288538130133\n",
       "131. 13.6249950260864\n",
       "132. 13.8743398880826\n",
       "133. 14.1095156484719\n",
       "134. 3.8291342948052\n",
       "135. -11.0744665668848\n",
       "136. 5.3331935755644\n",
       "137. 4.84318613899778\n",
       "138. 5.75733773996072\n",
       "139. 5.58577173002929\n",
       "140. 6.00410772196675\n",
       "141. 4.9202904301604\n",
       "142. 5.14819899515733\n",
       "143. 5.75108407074064\n",
       "144. 5.13071414775688\n",
       "145. 6.10546983525382\n",
       "146. 6.2878410804334\n",
       "147. 5.02035014903569\n",
       "148. 5.96436641222212\n",
       "149. 4.8052528274727\n",
       "150. 5.94897572842246\n",
       "151. 5.46538578553127\n",
       "152. 4.88238406766522\n",
       "153. 5.01246048982981\n",
       "154. 4.96185096786912\n",
       "155. 5.39405447019719\n",
       "156. 5.4085802465378\n",
       "157. 5.182590432631\n",
       "158. 4.42584262740474\n",
       "159. 4.29405732866172\n",
       "160. 4.12448842545141\n",
       "161. 3.71235727669517\n",
       "162. 4.11673707586937\n",
       "163. 5.55850151099768\n",
       "164. 4.45822015763554\n",
       "165. 3.98875452807111\n",
       "166. 3.20826865666585\n",
       "167. 3.68246568459458\n",
       "168. 3.18876086533707\n",
       "169. 2.44639705947448\n",
       "170. 3.60601781811855\n",
       "171. 3.29935804389456\n",
       "172. 2.58839359218856\n",
       "173. 3.62253999367148\n",
       "174. 2.54351047094607\n",
       "175. 1.85451977654377\n",
       "176. 3.18778165380537\n",
       "177. 1.76576989864289\n",
       "178. 2.02044762557217\n",
       "179. 1.97486125556566\n",
       "180. 1.58147466794144\n",
       "181. 2.1061082258775\n",
       "182. 2.08006344097932\n",
       "183. 1.06047671953962\n",
       "184. 0.840247533265749\n",
       "185. 0.995591822237072\n",
       "186. 1.01616485543972\n",
       "187. 0.608743985567961\n",
       "188. 1.07331390506583\n",
       "189. 1.29508313952326\n",
       "190. 1.55329549402163\n",
       "191. 0.309823228424822\n",
       "192. -0.0456237834172026\n",
       "193. -3.64616090069651\n",
       "194. 15.6272649985567\n",
       "195. 17.392831701584\n",
       "196. 19.122317057041\n",
       "197. 9.73260124176325\n",
       "198. 9.18031156342854\n",
       "199. 6.73003014500225\n",
       "200. 5.7418463007357\n",
       "201. 20.0794045358302\n",
       "202. 0\n",
       "203. 1.00860865215324e-07\n",
       "204. 1.31728959562594e-06\n",
       "205. 9.06837938075e-09\n",
       "206. 2.45294162759535e-08\n",
       "207. 2.06328087948293e-09\n",
       "208. 8.92611784264474e-07\n",
       "209. 2.73340158729596e-07\n",
       "210. 9.40797506565616e-09\n",
       "211. 2.99843346818207e-07\n",
       "212. 1.10444697831724e-09\n",
       "213. 3.50024675910277e-10\n",
       "214. 5.34147595709911e-07\n",
       "215. 2.62912092097167e-09\n",
       "216. 1.59196244764459e-06\n",
       "217. 2.88666246461844e-09\n",
       "218. 4.84896178765126e-08\n",
       "219. 1.08159145306708e-06\n",
       "220. 5.56410240104555e-07\n",
       "221. 7.22004342090798e-07\n",
       "222. 7.2140818874189e-08\n",
       "223. 6.65606765259952e-08\n",
       "224. 2.27657348084165e-07\n",
       "225. 9.81634539298781e-06\n",
       "226. 1.78845929597049e-05\n",
       "227. 3.77746243411803e-05\n",
       "228. 0.000207630092186273\n",
       "229. 3.9062644977772e-05\n",
       "230. 2.86586150366475e-08\n",
       "231. 8.44983481740336e-06\n",
       "232. 6.73944979028285e-05\n",
       "233. 0.00134401072704149\n",
       "234. 0.000233490148386695\n",
       "235. 0.00143788306415327\n",
       "236. 0.0144642897032456\n",
       "237. 0.000314043058107449\n",
       "238. 0.000976020174453751\n",
       "239. 0.00967110460053444\n",
       "240. 0.000294693996350626\n",
       "241. 0.0110050996017002\n",
       "242. 0.0637251782320576\n",
       "243. 0.00144275075017308\n",
       "244. 0.0774970456105972\n",
       "245. 0.0433915548798729\n",
       "246. 0.0483402319325308\n",
       "247. 0.113834418364628\n",
       "248. 0.0352459454254326\n",
       "249. 0.0375718307808779\n",
       "250. 0.288980311657446\n",
       "251. 0.400810818720091\n",
       "252. 0.319497922978846\n",
       "253. 0.309601317246637\n",
       "254. 0.542722510360373\n",
       "255. 0.283183423239245\n",
       "256. 0.195352878569466\n",
       "257. 0.120417468899073\n",
       "258. 0.756708628965929\n",
       "259. 0.963611981170438\n",
       "260. 0.000268964099873648\n",
       "261. 0\n",
       "262. 0\n",
       "263. 0\n",
       "264. 0\n",
       "265. 0\n",
       "266. 1.89188664734274e-11\n",
       "267. 9.93234561263989e-09\n",
       "268. 0\n",
       "\n",
       "\n",
       "\n",
       "\n",
       "\n"
      ],
      "text/plain": [
       "$devianceResiduals\n",
       " Min       Max     \n",
       " -557.0523 2403.766\n",
       "\n",
       "$coefficients\n",
       "                        Estimate      Std. Error   t value     Pr(>|t|)    \n",
       "(Intercept)             -246.1828     22.22977     -11.07447   0           \n",
       "geoname_San Diego       920.3487      172.5699     5.333194    1.008609e-07\n",
       "geoname_Los Angeles     2710.7        559.6934     4.843186    1.31729e-06 \n",
       "geoname_Riverside       662.6117      115.09       5.757338    9.068379e-09\n",
       "geoname_Sacramento      452.5343      81.01553     5.585772    2.452942e-08\n",
       "geoname_San Bernardino  680.2915      113.3043     6.004108    2.063281e-09\n",
       "geoname_Orange          840.0219      170.7261     4.92029     8.926118e-07\n",
       "geoname_San Francisco   258.3553      50.18363     5.148199    2.733402e-07\n",
       "geoname_Tulare          186.5334      32.43447     5.751084    9.407975e-09\n",
       "geoname_Contra Costa    318.6192      62.10036     5.130714    2.998433e-07\n",
       "geoname_Fresno          336.8306      55.16866     6.10547     1.104447e-09\n",
       "geoname_Kern            311.6658      49.56643     6.287841    3.500247e-10\n",
       "geoname_San Mateo       231.2882      46.07013     5.02035     5.341476e-07\n",
       "geoname_San Joaquin     258.9825      43.42163     5.964366    2.629121e-09\n",
       "geoname_Merced          126.6235      26.35106     4.805253    1.591962e-06\n",
       "geoname_Stanislaus      215.4274      36.21253     5.948976    2.886662e-09\n",
       "geoname_Sonoma          191.8166      35.09662     5.465386    4.848962e-08\n",
       "geoname_Placer          141.0354      28.88658     4.882384    1.081591e-06\n",
       "geoname_Solano          162.7421      32.4675      5.01246     5.564102e-07\n",
       "geoname_Santa Clara     501.8561      101.1429     4.961851    7.220043e-07\n",
       "geoname_Monterey        175.246       32.48874     5.394054    7.214082e-08\n",
       "geoname_Santa Barbara   176.9195      32.71089     5.40858     6.656068e-08\n",
       "geoname_Alameda         453.0976      87.42685     5.18259     2.276573e-07\n",
       "geoname_Butte           114.4838      25.86712     4.425843    9.816345e-06\n",
       "geoname_Santa Cruz      116.547       27.14147     4.294057    1.788459e-05\n",
       "geoname_Imperial        101.5984      24.63298     4.124488    3.777462e-05\n",
       "geoname_Yolo            93.98411      25.31656     3.712357    0.0002076301\n",
       "geoname_El Dorado       102.6458      24.93377     4.116737    3.906264e-05\n",
       "geoname_Ventura         284.705       51.21975     5.558502    2.865862e-08\n",
       "geoname_San Luis Obispo 122.1802      27.4056      4.45822     8.449835e-06\n",
       "geoname_Shasta          99.90795      25.0474      3.988755    6.73945e-05 \n",
       "geoname_Napa            77.77678      24.2426      3.208269    0.001344011 \n",
       "geoname_Madera          90.1046       24.46855     3.682466    0.0002334901\n",
       "geoname_Mendocino       75.38311      23.64025     3.188761    0.001437883 \n",
       "geoname_Yuba            57.4515       23.48413     2.446397    0.01446429  \n",
       "geoname_Marin           97.83751      27.13173     3.606018    0.0003140431\n",
       "geoname_Humboldt        80.29657      24.33703     3.299358    0.0009760202\n",
       "geoname_Tehama          60.75075      23.47044     2.588394    0.009671105 \n",
       "geoname_Kings           89.53932      24.71728     3.62254     0.000294694 \n",
       "geoname_Sutter          60.72474      23.87438     2.54351     0.0110051   \n",
       "geoname_San Benito      43.98991      23.72038     1.85452     0.06372518  \n",
       "geoname_Nevada          77.49792      24.31092     3.187782    0.001442751 \n",
       "geoname_Amador          42.02994      23.80261     1.76577     0.07749705  \n",
       "geoname_Tuolumne        48.35174      23.9312      2.020448    0.04339155  \n",
       "geoname_Siskiyou        47.26819      23.93494     1.974861    0.04834023  \n",
       "geoname_Lassen          37.76126      23.87724     1.581475    0.1138344   \n",
       "geoname_Lake            50.66767      24.05749     2.106108    0.03524595  \n",
       "geoname_Inyo            49.70115      23.89405     2.080063    0.03757183  \n",
       "geoname_Del Norte       25.44305      23.99209     1.060477    0.2889803   \n",
       "geoname_Trinity         20.17793      24.01427     0.8402475   0.4008108   \n",
       "geoname_Plumas          23.92304      24.02896     0.9955918   0.3194979   \n",
       "geoname_Mariposa        24.49195      24.10234     1.016165    0.3096013   \n",
       "geoname_Mono            14.6677       24.09502     0.608744    0.5427225   \n",
       "geoname_Colusa          25.96628      24.19262     1.073314    0.2831834   \n",
       "geoname_Glenn           31.36267      24.21672     1.295083    0.1953529   \n",
       "geoname_Calaveras       37.87226      24.38188     1.553295    0.1204175   \n",
       "geoname_Sierra          7.680352      24.78946     0.3098232   0.7567086   \n",
       "geoname_Modoc           -1.140548     24.99898     -0.04562378 0.963612    \n",
       "totalpop                -0.0002083173 5.713333e-05 -3.646161   0.0002689641\n",
       "mode_Car/Pickup         210.5484      13.47315     15.62726    0           \n",
       "mode_Vehicles           234.3535      13.47414     17.39283    0           \n",
       "mode_All modes          257.8284      13.48312     19.12232    0           \n",
       "mode_Motorcycle         131.6709      13.52885     9.732601    0           \n",
       "mode_Pedestrian         125.0817      13.625       9.180312    0           \n",
       "mode_Bicyclist          93.37473      13.87434     6.73003     1.891887e-11\n",
       "mode_Truck              81.01467      14.10952     5.741846    9.932346e-09\n",
       "severity_Severe Injury  76.88674      3.829134     20.0794     0           \n"
      ]
     },
     "execution_count": 142,
     "metadata": {},
     "output_type": "execute_result"
    }
   ],
   "source": [
    "summary(model, signif.stars=TRUE)"
   ]
  },
  {
   "cell_type": "markdown",
   "metadata": {},
   "source": [
    "Aldığımız summary nin sonuçlarına baktığımızda son kolondaki değerlerin istatistiksel olarak dikkate değer olması için aranan şart 0.05 den küçük olmasının bazı satırlarda sağlanmadığını görüyoruz. Bu modelimizin ilgili değişken için iyi çalışmayacağının bir göstergesi. Burada kategorik değişkenlerde otomatik kolon oluşturup regresyon yapıldığı için özellikle alt bölgelerin bazılarında problem olduğunu görebiliyoruz. "
   ]
  },
  {
   "cell_type": "markdown",
   "metadata": {},
   "source": [
    "## Test verisi ile modelimizin doğruluğunun kontrolü"
   ]
  },
  {
   "cell_type": "code",
   "execution_count": 144,
   "metadata": {
    "collapsed": false
   },
   "outputs": [
    {
     "data": {
      "text/html": [
       "65.9917037636584"
      ],
      "text/latex": [
       "65.9917037636584"
      ],
      "text/markdown": [
       "65.9917037636584"
      ],
      "text/plain": [
       "[1] 65.9917"
      ]
     },
     "execution_count": 144,
     "metadata": {},
     "output_type": "execute_result"
    }
   ],
   "source": [
    "injuries_mean <- collect(agg(\n",
    "    traffic_injuries_filtered_df_train, \n",
    "    AVG_INJURIES=mean(traffic_injuries_filtered_df_train$avg_injuries)\n",
    "))$AVG_INJURIES\n",
    "\n",
    "injuries_mean"
   ]
  },
  {
   "cell_type": "code",
   "execution_count": 145,
   "metadata": {
    "collapsed": true
   },
   "outputs": [],
   "source": [
    "predictions <- predict(model, newData = traffic_injuries_filtered_df_test)\n"
   ]
  },
  {
   "cell_type": "markdown",
   "metadata": {},
   "source": [
    "Tahminlerimizin gerçekle ne kadar tutarlı olduğunu ölçmek için [R2](https://en.wikipedia.org/wiki/Coefficient_of_determination) değerini hesaplayalım."
   ]
  },
  {
   "cell_type": "code",
   "execution_count": 148,
   "metadata": {
    "collapsed": false
   },
   "outputs": [
    {
     "data": {
      "text/html": [
       "<table>\n",
       "<thead><tr><th></th><th scope=col>avg_injuries</th><th scope=col>prediction</th><th scope=col>S_res</th><th scope=col>S_tot</th></tr></thead>\n",
       "<tbody>\n",
       "\t<tr><th scope=row>1</th><td>93</td><td>133.3833</td><td>1630.814</td><td>729.4481</td></tr>\n",
       "\t<tr><th scope=row>2</th><td>69</td><td>95.90106</td><td>723.667</td><td>9.049846</td></tr>\n",
       "\t<tr><th scope=row>3</th><td>52</td><td>51.09473</td><td>0.8195144</td><td>195.7678</td></tr>\n",
       "\t<tr><th scope=row>4</th><td>2</td><td>5.588882</td><td>12.88007</td><td>4094.938</td></tr>\n",
       "\t<tr><th scope=row>5</th><td>82</td><td>99.96816</td><td>322.8548</td><td>256.2655</td></tr>\n",
       "\t<tr><th scope=row>6</th><td>57</td><td>108.4535</td><td>2647.466</td><td>80.85074</td></tr>\n",
       "</tbody>\n",
       "</table>\n"
      ],
      "text/latex": [
       "\\begin{tabular}{r|llll}\n",
       "  & avg_injuries & prediction & S_res & S_tot\\\\\n",
       "\\hline\n",
       "\t1 & 93 & 133.3833 & 1630.814 & 729.4481\\\\\n",
       "\t2 & 69 & 95.90106 & 723.667 & 9.049846\\\\\n",
       "\t3 & 52 & 51.09473 & 0.8195144 & 195.7678\\\\\n",
       "\t4 & 2 & 5.588882 & 12.88007 & 4094.938\\\\\n",
       "\t5 & 82 & 99.96816 & 322.8548 & 256.2655\\\\\n",
       "\t6 & 57 & 108.4535 & 2647.466 & 80.85074\\\\\n",
       "\\end{tabular}\n"
      ],
      "text/plain": [
       "  avg_injuries prediction        S_res       S_tot\n",
       "1           93 133.383332 1630.8135148  729.448066\n",
       "2           69  95.901059  723.6669803    9.049846\n",
       "3           52  51.094730    0.8195144  195.767774\n",
       "4            2   5.588882   12.8800709 4094.938151\n",
       "5           82  99.968162  322.8548323  256.265548\n",
       "6           57 108.453529 2647.4656552   80.850737"
      ]
     },
     "execution_count": 148,
     "metadata": {},
     "output_type": "execute_result"
    }
   ],
   "source": [
    "predictions <- transform(\n",
    "    predictions, \n",
    "    S_res=(predictions$avg_injuries - predictions$prediction)**2, \n",
    "    S_tot=(predictions$avg_injuries - injuries_mean)**2)\n",
    "head(select(predictions, \"avg_injuries\", \"prediction\", \"S_res\", \"S_tot\"))"
   ]
  },
  {
   "cell_type": "code",
   "execution_count": 149,
   "metadata": {
    "collapsed": true
   },
   "outputs": [],
   "source": [
    "nrows_test <- nrow(traffic_injuries_filtered_df_test)\n",
    "residuals <- collect(agg(\n",
    "    predictions, \n",
    "    SS_res=sum(predictions$S_res),\n",
    "    SS_tot=sum(predictions$S_tot)\n",
    "))"
   ]
  },
  {
   "cell_type": "code",
   "execution_count": 150,
   "metadata": {
    "collapsed": false
   },
   "outputs": [
    {
     "data": {
      "text/html": [
       "<table>\n",
       "<thead><tr><th></th><th scope=col>SS_res</th><th scope=col>SS_tot</th></tr></thead>\n",
       "<tbody>\n",
       "\t<tr><th scope=row>1</th><td>34627887</td><td>58968645</td></tr>\n",
       "</tbody>\n",
       "</table>\n"
      ],
      "text/latex": [
       "\\begin{tabular}{r|ll}\n",
       "  & SS_res & SS_tot\\\\\n",
       "\\hline\n",
       "\t1 & 34627887 & 58968645\\\\\n",
       "\\end{tabular}\n"
      ],
      "text/plain": [
       "    SS_res   SS_tot\n",
       "1 34627887 58968645"
      ]
     },
     "execution_count": 150,
     "metadata": {},
     "output_type": "execute_result"
    }
   ],
   "source": [
    "residuals"
   ]
  },
  {
   "cell_type": "code",
   "execution_count": 152,
   "metadata": {
    "collapsed": false
   },
   "outputs": [
    {
     "data": {
      "text/html": [
       "0.412774582918065"
      ],
      "text/latex": [
       "0.412774582918065"
      ],
      "text/markdown": [
       "0.412774582918065"
      ],
      "text/plain": [
       "[1] 0.4127746"
      ]
     },
     "execution_count": 152,
     "metadata": {},
     "output_type": "execute_result"
    }
   ],
   "source": [
    "R2 <- 1.0 - (residuals$SS_res/residuals$SS_tot)\n",
    "R2"
   ]
  },
  {
   "cell_type": "markdown",
   "metadata": {},
   "source": [
    "R2 nin 1 değeri alması mükemmel tahminlemeyi, 0 değeri alması ise lineer olmayan bir veriyi veya tamamen rasgele bir veri ile çalışıldığını gösterir. Bu durumda bizim model iyi görünmüyor."
   ]
  },
  {
   "cell_type": "markdown",
   "metadata": {},
   "source": [
    "## Sonuç\n",
    "\n",
    "Bu durumda modelimizin yaralanma/ölme rakamlarının tahminlemesini iyi yapmasını istiyorsak üzerinde biraz daha çalışmamız gerekiyor.\n",
    "\n",
    "Spark v1.6 nın R üzerinde makina öğrenmesi yapan modülü bazı kısıtlamalar içeriyor. Bu kısıtlardan bazıları;\n",
    "\n",
    "* Model parametrelerini yorumlamak için yardımcı olan *summary* komutunun çıktısında görmeye alışık olduğumuz şeylerin örnek; dikkate değer yıldızlar özelliği eklenmesi.\n",
    "* Modelin çıktısını kolayca değerlendirmek için R2 gibi fonksiyonların hazır sunulması.\n",
    "* verinin test ve eğitim için kolayca bölünmesi için bir *split* fonksiyonu\n",
    "* Lineer olmayan modeller eklenmesi.\n",
    "* R motoru harici wrapper lardan kaynaklı hata mesajlarının anlaşılır yapılması."
   ]
  }
 ],
 "metadata": {
  "kernelspec": {
   "display_name": "R",
   "language": "R",
   "name": "ir"
  },
  "language_info": {
   "codemirror_mode": "r",
   "file_extension": ".r",
   "mimetype": "text/x-r-source",
   "name": "R",
   "pygments_lexer": "r",
   "version": "3.2.3"
  }
 },
 "nbformat": 4,
 "nbformat_minor": 0
}
